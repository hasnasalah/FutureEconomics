{
 "cells": [
  {
   "cell_type": "code",
   "execution_count": 1,
   "id": "2366aeea-2d54-4e90-931d-854f18599211",
   "metadata": {},
   "outputs": [
    {
     "name": "stdout",
     "output_type": "stream",
     "text": [
      "hello world\n"
     ]
    }
   ],
   "source": [
    "print(\"hello world\")\n"
   ]
  },
  {
   "cell_type": "code",
   "execution_count": 3,
   "id": "5f037fc1-3b01-467b-910e-d22981a4078b",
   "metadata": {},
   "outputs": [
    {
     "name": "stdout",
     "output_type": "stream",
     "text": [
      "hello oulaya   24   married\n"
     ]
    }
   ],
   "source": [
    "data=\"hello oulaya\"\n",
    "age=24\n",
    "situation=\"married\"\n",
    "\n",
    "print(data,\" \",age,\" \",situation)"
   ]
  },
  {
   "cell_type": "code",
   "execution_count": null,
   "id": "7e395e54-1071-4c9c-8024-f4e0f5553502",
   "metadata": {},
   "outputs": [],
   "source": []
  }
 ],
 "metadata": {
  "kernelspec": {
   "display_name": "Python 3 (ipykernel)",
   "language": "python",
   "name": "python3"
  },
  "language_info": {
   "codemirror_mode": {
    "name": "ipython",
    "version": 3
   },
   "file_extension": ".py",
   "mimetype": "text/x-python",
   "name": "python",
   "nbconvert_exporter": "python",
   "pygments_lexer": "ipython3",
   "version": "3.12.4"
  }
 },
 "nbformat": 4,
 "nbformat_minor": 5
}
